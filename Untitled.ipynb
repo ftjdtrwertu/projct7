{
 "cells": [
  {
   "cell_type": "code",
   "execution_count": null,
   "id": "f642ede7-8463-41e6-abc6-4d0cececa3f3",
   "metadata": {},
   "outputs": [],
   "source": [
    "import pandas as pd"
   ]
  },
  {
   "cell_type": "code",
   "execution_count": null,
   "id": "3d9ee285-2818-4dc9-a835-c668978fe59b",
   "metadata": {},
   "outputs": [],
   "source": [
    "fil = pd.read_json(r"
   ]
  }
 ],
 "metadata": {
  "kernelspec": {
   "display_name": "Python 3 (ipykernel)",
   "language": "python",
   "name": "python3"
  },
  "language_info": {
   "codemirror_mode": {
    "name": "ipython",
    "version": 3
   },
   "file_extension": ".py",
   "mimetype": "text/x-python",
   "name": "python",
   "nbconvert_exporter": "python",
   "pygments_lexer": "ipython3",
   "version": "3.11.7"
  }
 },
 "nbformat": 4,
 "nbformat_minor": 5
}
